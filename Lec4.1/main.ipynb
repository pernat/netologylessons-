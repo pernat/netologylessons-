{
 "cells": [
  {
   "cell_type": "code",
   "execution_count": 1,
   "metadata": {},
   "outputs": [],
   "source": [
    "import pandas as pd\n",
    "import os"
   ]
  },
  {
   "cell_type": "code",
   "execution_count": 2,
   "metadata": {},
   "outputs": [],
   "source": [
    "FILE_PATH = os.path.join(os.path.sep, os.getcwd(), 'source', '')"
   ]
  },
  {
   "cell_type": "code",
   "execution_count": 3,
   "metadata": {},
   "outputs": [
    {
     "name": "stdout",
     "output_type": "stream",
     "text": [
      "Введите интересующие вас года через запятую: 2015\n"
     ]
    }
   ],
   "source": [
    "query_years = input('Введите интересующие вас года через запятую: ')"
   ]
  },
  {
   "cell_type": "code",
   "execution_count": 4,
   "metadata": {},
   "outputs": [],
   "source": [
    "def get_filenames(years):\n",
    "    years = list(years.split(', '))\n",
    "    file_list = os.listdir(path=FILE_PATH)\n",
    "    need_files = list()\n",
    "    for file in file_list:\n",
    "        for x in years:\n",
    "            if x in file:\n",
    "                need_files.append(file)\n",
    "    return need_files"
   ]
  },
  {
   "cell_type": "code",
   "execution_count": 6,
   "metadata": {},
   "outputs": [],
   "source": [
    "def get_top():\n",
    "    frame = pd.DataFrame()\n",
    "    my_q_files = get_filenames(query_years)\n",
    "    my_dict = []\n",
    "    for file in my_q_files:\n",
    "        cols = ['name', 'gender', 'value']   \n",
    "        df = pd.read_csv(FILE_PATH + file, index_col=None, header=None, names=cols)\n",
    "        my_dict.append(df)\n",
    "    frame = pd.concat(my_dict, keys=my_q_files, names=['year', 'id'])\n",
    "    new = frame.groupby(['name']).sum()\n",
    "    return new.sort_values(by='value', ascending=False).head(3)"
   ]
  },
  {
   "cell_type": "code",
   "execution_count": 7,
   "metadata": {},
   "outputs": [
    {
     "data": {
      "text/html": [
       "<div>\n",
       "<style scoped>\n",
       "    .dataframe tbody tr th:only-of-type {\n",
       "        vertical-align: middle;\n",
       "    }\n",
       "\n",
       "    .dataframe tbody tr th {\n",
       "        vertical-align: top;\n",
       "    }\n",
       "\n",
       "    .dataframe thead th {\n",
       "        text-align: right;\n",
       "    }\n",
       "</style>\n",
       "<table border=\"1\" class=\"dataframe\">\n",
       "  <thead>\n",
       "    <tr style=\"text-align: right;\">\n",
       "      <th></th>\n",
       "      <th>value</th>\n",
       "    </tr>\n",
       "    <tr>\n",
       "      <th>name</th>\n",
       "      <th></th>\n",
       "    </tr>\n",
       "  </thead>\n",
       "  <tbody>\n",
       "    <tr>\n",
       "      <th>Emma</th>\n",
       "      <td>20445</td>\n",
       "    </tr>\n",
       "    <tr>\n",
       "      <th>Noah</th>\n",
       "      <td>19750</td>\n",
       "    </tr>\n",
       "    <tr>\n",
       "      <th>Olivia</th>\n",
       "      <td>19678</td>\n",
       "    </tr>\n",
       "  </tbody>\n",
       "</table>\n",
       "</div>"
      ],
      "text/plain": [
       "        value\n",
       "name         \n",
       "Emma    20445\n",
       "Noah    19750\n",
       "Olivia  19678"
      ]
     },
     "execution_count": 7,
     "metadata": {},
     "output_type": "execute_result"
    }
   ],
   "source": [
    "get_top()"
   ]
  }
 ],
 "metadata": {
  "kernelspec": {
   "display_name": "Python 3",
   "language": "python",
   "name": "python3"
  },
  "language_info": {
   "codemirror_mode": {
    "name": "ipython",
    "version": 3
   },
   "file_extension": ".py",
   "mimetype": "text/x-python",
   "name": "python",
   "nbconvert_exporter": "python",
   "pygments_lexer": "ipython3",
   "version": "3.6.4"
  }
 },
 "nbformat": 4,
 "nbformat_minor": 2
}
