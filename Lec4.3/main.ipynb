{
 "cells": [
  {
   "cell_type": "code",
   "execution_count": 7,
   "metadata": {},
   "outputs": [],
   "source": [
    "import requests\n",
    "import random\n",
    "from time import sleep\n",
    "\n",
    "import pandas as pd\n",
    "import numpy as np\n",
    "import matplotlib.pyplot as plt\n",
    "\n",
    "%matplotlib inline"
   ]
  },
  {
   "cell_type": "code",
   "execution_count": 8,
   "metadata": {},
   "outputs": [],
   "source": [
    "from scipy.cluster.vq import whiten, kmeans2"
   ]
  },
  {
   "cell_type": "code",
   "execution_count": 9,
   "metadata": {},
   "outputs": [],
   "source": [
    "def call_api(uri):\n",
    "    json = requests.get(uri, headers={'X-Auth-Token': 'ca62eb2a6f6f44bc9b257f70138ad4d7'}).json()\n",
    "    return json"
   ]
  },
  {
   "cell_type": "code",
   "execution_count": 10,
   "metadata": {},
   "outputs": [],
   "source": [
    "def get_cost_value(uri):\n",
    "    cost = requests.get(uri, headers={'X-Auth-Token': 'ca62eb2a6f6f44bc9b257f70138ad4d7'}).json()\n",
    "    return cost"
   ]
  },
  {
   "cell_type": "code",
   "execution_count": 11,
   "metadata": {},
   "outputs": [],
   "source": [
    "teams = call_api('http://api.football-data.org/v1/competitions/439/leagueTable')"
   ]
  },
  {
   "cell_type": "code",
   "execution_count": 12,
   "metadata": {},
   "outputs": [
    {
     "data": {
      "text/plain": [
       "[{'cost': 495452410, 'losses': 2, 'name': 'SL Benfica', 'wins': 25},\n",
       " {'cost': 756604869, 'losses': 2, 'name': 'FC Porto', 'wins': 22},\n",
       " {'cost': 801676867, 'losses': 6, 'name': 'Sporting CP', 'wins': 21},\n",
       " {'cost': 388075003, 'losses': 8, 'name': 'Vitoria Guimaraes', 'wins': 19},\n",
       " {'cost': 563060407, 'losses': 10, 'name': 'Sporting Braga', 'wins': 15},\n",
       " {'cost': 740697105, 'losses': 10, 'name': 'Maritimo Funchal', 'wins': 13},\n",
       " {'cost': 553780878, 'losses': 13, 'name': 'FC Rio Ave', 'wins': 14},\n",
       " {'cost': 718161106, 'losses': 14, 'name': 'Feirense', 'wins': 13},\n",
       " {'cost': 791071691, 'losses': 11, 'name': 'Boavista Porto FC', 'wins': 10},\n",
       " {'cost': 625365816, 'losses': 16, 'name': 'GD Estoril Praia', 'wins': 10},\n",
       " {'cost': 369515945, 'losses': 13, 'name': 'G.D. Chaves', 'wins': 8},\n",
       " {'cost': 670437814, 'losses': 16, 'name': 'Vitoria Setubal', 'wins': 9},\n",
       " {'cost': 826864160, 'losses': 14, 'name': 'FC Paços de Ferreira', 'wins': 8},\n",
       " {'cost': 825538513, 'losses': 16, 'name': 'C.F. Os Belenenses', 'wins': 9},\n",
       " {'cost': 792397338, 'losses': 16, 'name': 'Moreirense FC', 'wins': 8},\n",
       " {'cost': 612109346, 'losses': 17, 'name': 'CD Tondela', 'wins': 8},\n",
       " {'cost': 898449098, 'losses': 20, 'name': 'FC Arouca', 'wins': 9},\n",
       " {'cost': 288651478, 'losses': 21, 'name': 'Nacional Funchal', 'wins': 4}]"
      ]
     },
     "execution_count": 12,
     "metadata": {},
     "output_type": "execute_result"
    }
   ],
   "source": [
    "team_for_pd = list()\n",
    "for x in range(len(teams['standing'])):\n",
    "\n",
    "    team_name = teams['standing'][x]['teamName']\n",
    "    team_losses = teams['standing'][x]['losses']\n",
    "    team_wins = teams['standing'][x]['wins']\n",
    "\n",
    "    team_cost_link = get_cost_value(teams['standing'][x]['_links']['team']['href'])\n",
    "    if team_cost_link['squadMarketValue'] is None:\n",
    "        team_cost = (random.randrange(288651478, 1032156791, 1325647))\n",
    "    else:\n",
    "        team_cost = team_cost_link['squadMarketValue']\n",
    "\n",
    "    team_for_pd.append({'name': team_name, 'losses': team_losses, 'wins': team_wins, 'cost': team_cost})\n",
    "    sleep(1)\n",
    "\n",
    "team_for_pd"
   ]
  },
  {
   "cell_type": "code",
   "execution_count": 13,
   "metadata": {},
   "outputs": [
    {
     "data": {
      "text/html": [
       "<div>\n",
       "<style scoped>\n",
       "    .dataframe tbody tr th:only-of-type {\n",
       "        vertical-align: middle;\n",
       "    }\n",
       "\n",
       "    .dataframe tbody tr th {\n",
       "        vertical-align: top;\n",
       "    }\n",
       "\n",
       "    .dataframe thead th {\n",
       "        text-align: right;\n",
       "    }\n",
       "</style>\n",
       "<table border=\"1\" class=\"dataframe\">\n",
       "  <thead>\n",
       "    <tr style=\"text-align: right;\">\n",
       "      <th></th>\n",
       "      <th>cost</th>\n",
       "      <th>losses</th>\n",
       "      <th>name</th>\n",
       "      <th>wins</th>\n",
       "    </tr>\n",
       "  </thead>\n",
       "  <tbody>\n",
       "    <tr>\n",
       "      <th>0</th>\n",
       "      <td>495452410</td>\n",
       "      <td>2</td>\n",
       "      <td>SL Benfica</td>\n",
       "      <td>25</td>\n",
       "    </tr>\n",
       "    <tr>\n",
       "      <th>1</th>\n",
       "      <td>756604869</td>\n",
       "      <td>2</td>\n",
       "      <td>FC Porto</td>\n",
       "      <td>22</td>\n",
       "    </tr>\n",
       "    <tr>\n",
       "      <th>2</th>\n",
       "      <td>801676867</td>\n",
       "      <td>6</td>\n",
       "      <td>Sporting CP</td>\n",
       "      <td>21</td>\n",
       "    </tr>\n",
       "    <tr>\n",
       "      <th>3</th>\n",
       "      <td>388075003</td>\n",
       "      <td>8</td>\n",
       "      <td>Vitoria Guimaraes</td>\n",
       "      <td>19</td>\n",
       "    </tr>\n",
       "    <tr>\n",
       "      <th>4</th>\n",
       "      <td>563060407</td>\n",
       "      <td>10</td>\n",
       "      <td>Sporting Braga</td>\n",
       "      <td>15</td>\n",
       "    </tr>\n",
       "    <tr>\n",
       "      <th>5</th>\n",
       "      <td>740697105</td>\n",
       "      <td>10</td>\n",
       "      <td>Maritimo Funchal</td>\n",
       "      <td>13</td>\n",
       "    </tr>\n",
       "    <tr>\n",
       "      <th>6</th>\n",
       "      <td>553780878</td>\n",
       "      <td>13</td>\n",
       "      <td>FC Rio Ave</td>\n",
       "      <td>14</td>\n",
       "    </tr>\n",
       "    <tr>\n",
       "      <th>7</th>\n",
       "      <td>718161106</td>\n",
       "      <td>14</td>\n",
       "      <td>Feirense</td>\n",
       "      <td>13</td>\n",
       "    </tr>\n",
       "    <tr>\n",
       "      <th>8</th>\n",
       "      <td>791071691</td>\n",
       "      <td>11</td>\n",
       "      <td>Boavista Porto FC</td>\n",
       "      <td>10</td>\n",
       "    </tr>\n",
       "    <tr>\n",
       "      <th>9</th>\n",
       "      <td>625365816</td>\n",
       "      <td>16</td>\n",
       "      <td>GD Estoril Praia</td>\n",
       "      <td>10</td>\n",
       "    </tr>\n",
       "    <tr>\n",
       "      <th>10</th>\n",
       "      <td>369515945</td>\n",
       "      <td>13</td>\n",
       "      <td>G.D. Chaves</td>\n",
       "      <td>8</td>\n",
       "    </tr>\n",
       "    <tr>\n",
       "      <th>11</th>\n",
       "      <td>670437814</td>\n",
       "      <td>16</td>\n",
       "      <td>Vitoria Setubal</td>\n",
       "      <td>9</td>\n",
       "    </tr>\n",
       "    <tr>\n",
       "      <th>12</th>\n",
       "      <td>826864160</td>\n",
       "      <td>14</td>\n",
       "      <td>FC Paços de Ferreira</td>\n",
       "      <td>8</td>\n",
       "    </tr>\n",
       "    <tr>\n",
       "      <th>13</th>\n",
       "      <td>825538513</td>\n",
       "      <td>16</td>\n",
       "      <td>C.F. Os Belenenses</td>\n",
       "      <td>9</td>\n",
       "    </tr>\n",
       "    <tr>\n",
       "      <th>14</th>\n",
       "      <td>792397338</td>\n",
       "      <td>16</td>\n",
       "      <td>Moreirense FC</td>\n",
       "      <td>8</td>\n",
       "    </tr>\n",
       "    <tr>\n",
       "      <th>15</th>\n",
       "      <td>612109346</td>\n",
       "      <td>17</td>\n",
       "      <td>CD Tondela</td>\n",
       "      <td>8</td>\n",
       "    </tr>\n",
       "    <tr>\n",
       "      <th>16</th>\n",
       "      <td>898449098</td>\n",
       "      <td>20</td>\n",
       "      <td>FC Arouca</td>\n",
       "      <td>9</td>\n",
       "    </tr>\n",
       "    <tr>\n",
       "      <th>17</th>\n",
       "      <td>288651478</td>\n",
       "      <td>21</td>\n",
       "      <td>Nacional Funchal</td>\n",
       "      <td>4</td>\n",
       "    </tr>\n",
       "  </tbody>\n",
       "</table>\n",
       "</div>"
      ],
      "text/plain": [
       "         cost  losses                  name  wins\n",
       "0   495452410       2            SL Benfica    25\n",
       "1   756604869       2              FC Porto    22\n",
       "2   801676867       6           Sporting CP    21\n",
       "3   388075003       8     Vitoria Guimaraes    19\n",
       "4   563060407      10        Sporting Braga    15\n",
       "5   740697105      10      Maritimo Funchal    13\n",
       "6   553780878      13            FC Rio Ave    14\n",
       "7   718161106      14              Feirense    13\n",
       "8   791071691      11     Boavista Porto FC    10\n",
       "9   625365816      16      GD Estoril Praia    10\n",
       "10  369515945      13           G.D. Chaves     8\n",
       "11  670437814      16       Vitoria Setubal     9\n",
       "12  826864160      14  FC Paços de Ferreira     8\n",
       "13  825538513      16    C.F. Os Belenenses     9\n",
       "14  792397338      16         Moreirense FC     8\n",
       "15  612109346      17            CD Tondela     8\n",
       "16  898449098      20             FC Arouca     9\n",
       "17  288651478      21      Nacional Funchal     4"
      ]
     },
     "execution_count": 13,
     "metadata": {},
     "output_type": "execute_result"
    }
   ],
   "source": [
    "teams_pd = pd.DataFrame(team_for_pd)\n",
    "teams_pd"
   ]
  },
  {
   "cell_type": "code",
   "execution_count": 14,
   "metadata": {},
   "outputs": [
    {
     "data": {
      "text/plain": [
       "<matplotlib.axes._subplots.AxesSubplot at 0xe2ce625c50>"
      ]
     },
     "execution_count": 14,
     "metadata": {},
     "output_type": "execute_result"
    },
    {
     "data": {
      "image/png": "[encoded data removed]",
      "text/plain": [
       "<matplotlib.figure.Figure at 0xe2ce625128>"
      ]
     },
     "metadata": {},
     "output_type": "display_data"
    }
   ],
   "source": [
    "teams_pd.plot.scatter(x='wins', y='losses', c='cost', s=50)"
   ]
  },
  {
   "cell_type": "code",
   "execution_count": 15,
   "metadata": {},
   "outputs": [
    {
     "name": "stdout",
     "output_type": "stream",
     "text": [
      "<class 'pandas.core.frame.DataFrame'>\n",
      "RangeIndex: 18 entries, 0 to 17\n",
      "Data columns (total 4 columns):\n",
      "cost      18 non-null int64\n",
      "losses    18 non-null int64\n",
      "name      18 non-null object\n",
      "wins      18 non-null int64\n",
      "dtypes: int64(3), object(1)\n",
      "memory usage: 656.0+ bytes\n"
     ]
    }
   ],
   "source": [
    "teams_pd.info()"
   ]
  },
  {
   "cell_type": "code",
   "execution_count": 16,
   "metadata": {},
   "outputs": [
    {
     "data": {
      "text/html": [
       "<div>\n",
       "<style scoped>\n",
       "    .dataframe tbody tr th:only-of-type {\n",
       "        vertical-align: middle;\n",
       "    }\n",
       "\n",
       "    .dataframe tbody tr th {\n",
       "        vertical-align: top;\n",
       "    }\n",
       "\n",
       "    .dataframe thead th {\n",
       "        text-align: right;\n",
       "    }\n",
       "</style>\n",
       "<table border=\"1\" class=\"dataframe\">\n",
       "  <thead>\n",
       "    <tr style=\"text-align: right;\">\n",
       "      <th></th>\n",
       "      <th>cost</th>\n",
       "      <th>losses</th>\n",
       "    </tr>\n",
       "  </thead>\n",
       "  <tbody>\n",
       "    <tr>\n",
       "      <th>0</th>\n",
       "      <td>495452410</td>\n",
       "      <td>2</td>\n",
       "    </tr>\n",
       "    <tr>\n",
       "      <th>1</th>\n",
       "      <td>756604869</td>\n",
       "      <td>2</td>\n",
       "    </tr>\n",
       "    <tr>\n",
       "      <th>2</th>\n",
       "      <td>801676867</td>\n",
       "      <td>6</td>\n",
       "    </tr>\n",
       "    <tr>\n",
       "      <th>3</th>\n",
       "      <td>388075003</td>\n",
       "      <td>8</td>\n",
       "    </tr>\n",
       "    <tr>\n",
       "      <th>4</th>\n",
       "      <td>563060407</td>\n",
       "      <td>10</td>\n",
       "    </tr>\n",
       "    <tr>\n",
       "      <th>5</th>\n",
       "      <td>740697105</td>\n",
       "      <td>10</td>\n",
       "    </tr>\n",
       "    <tr>\n",
       "      <th>6</th>\n",
       "      <td>553780878</td>\n",
       "      <td>13</td>\n",
       "    </tr>\n",
       "    <tr>\n",
       "      <th>7</th>\n",
       "      <td>718161106</td>\n",
       "      <td>14</td>\n",
       "    </tr>\n",
       "    <tr>\n",
       "      <th>8</th>\n",
       "      <td>791071691</td>\n",
       "      <td>11</td>\n",
       "    </tr>\n",
       "    <tr>\n",
       "      <th>9</th>\n",
       "      <td>625365816</td>\n",
       "      <td>16</td>\n",
       "    </tr>\n",
       "    <tr>\n",
       "      <th>10</th>\n",
       "      <td>369515945</td>\n",
       "      <td>13</td>\n",
       "    </tr>\n",
       "    <tr>\n",
       "      <th>11</th>\n",
       "      <td>670437814</td>\n",
       "      <td>16</td>\n",
       "    </tr>\n",
       "    <tr>\n",
       "      <th>12</th>\n",
       "      <td>826864160</td>\n",
       "      <td>14</td>\n",
       "    </tr>\n",
       "    <tr>\n",
       "      <th>13</th>\n",
       "      <td>825538513</td>\n",
       "      <td>16</td>\n",
       "    </tr>\n",
       "    <tr>\n",
       "      <th>14</th>\n",
       "      <td>792397338</td>\n",
       "      <td>16</td>\n",
       "    </tr>\n",
       "    <tr>\n",
       "      <th>15</th>\n",
       "      <td>612109346</td>\n",
       "      <td>17</td>\n",
       "    </tr>\n",
       "    <tr>\n",
       "      <th>16</th>\n",
       "      <td>898449098</td>\n",
       "      <td>20</td>\n",
       "    </tr>\n",
       "    <tr>\n",
       "      <th>17</th>\n",
       "      <td>288651478</td>\n",
       "      <td>21</td>\n",
       "    </tr>\n",
       "  </tbody>\n",
       "</table>\n",
       "</div>"
      ],
      "text/plain": [
       "         cost  losses\n",
       "0   495452410       2\n",
       "1   756604869       2\n",
       "2   801676867       6\n",
       "3   388075003       8\n",
       "4   563060407      10\n",
       "5   740697105      10\n",
       "6   553780878      13\n",
       "7   718161106      14\n",
       "8   791071691      11\n",
       "9   625365816      16\n",
       "10  369515945      13\n",
       "11  670437814      16\n",
       "12  826864160      14\n",
       "13  825538513      16\n",
       "14  792397338      16\n",
       "15  612109346      17\n",
       "16  898449098      20\n",
       "17  288651478      21"
      ]
     },
     "execution_count": 16,
     "metadata": {},
     "output_type": "execute_result"
    }
   ],
   "source": [
    "del teams_pd['wins']\n",
    "del teams_pd['name']\n",
    "teams_pd"
   ]
  },
  {
   "cell_type": "code",
   "execution_count": 17,
   "metadata": {},
   "outputs": [
    {
     "data": {
      "text/plain": [
       "array([[2.88128672, 0.37928372],\n",
       "       [4.40001001, 0.37928372],\n",
       "       [4.66212468, 1.13785117],\n",
       "       [2.25683704, 1.5171349 ],\n",
       "       [3.27445874, 1.89641862],\n",
       "       [4.30749894, 1.89641862],\n",
       "       [3.22049395, 2.46534421],\n",
       "       [4.1764416 , 2.65498607],\n",
       "       [4.60045064, 2.08606049],\n",
       "       [3.63679374, 3.0342698 ],\n",
       "       [2.14890747, 2.46534421],\n",
       "       [3.89890841, 3.0342698 ],\n",
       "       [4.80860053, 2.65498607],\n",
       "       [4.80089128, 3.0342698 ],\n",
       "       [4.6081599 , 3.0342698 ],\n",
       "       [3.55970118, 3.22391166],\n",
       "       [5.22490032, 3.79283725],\n",
       "       [1.6786429 , 3.98247911]])"
      ]
     },
     "execution_count": 17,
     "metadata": {},
     "output_type": "execute_result"
    }
   ],
   "source": [
    "whitened = whiten(teams_pd.as_matrix())\n",
    "whitened"
   ]
  },
  {
   "cell_type": "code",
   "execution_count": 19,
   "metadata": {},
   "outputs": [
    {
     "data": {
      "text/plain": [
       "(array([[1.6786429 , 3.98247911],\n",
       "        [3.39395219, 1.5171349 ],\n",
       "        [4.3683164 , 2.94998453]]),\n",
       " array([1, 1, 1, 1, 1, 1, 1, 2, 2, 2, 1, 2, 2, 2, 2, 2, 2, 0]))"
      ]
     },
     "execution_count": 19,
     "metadata": {},
     "output_type": "execute_result"
    }
   ],
   "source": [
    "centroids, cluster_map = kmeans2(whitened, 3)\n",
    "centroids, cluster_map"
   ]
  },
  {
   "cell_type": "code",
   "execution_count": 20,
   "metadata": {},
   "outputs": [
    {
     "data": {
      "text/plain": [
       "['g',\n",
       " 'g',\n",
       " 'g',\n",
       " 'g',\n",
       " 'g',\n",
       " 'g',\n",
       " 'g',\n",
       " 'b',\n",
       " 'b',\n",
       " 'b',\n",
       " 'g',\n",
       " 'b',\n",
       " 'b',\n",
       " 'b',\n",
       " 'b',\n",
       " 'b',\n",
       " 'b',\n",
       " 'r']"
      ]
     },
     "execution_count": 20,
     "metadata": {},
     "output_type": "execute_result"
    }
   ],
   "source": [
    "colors_map = {0: 'r', 1: 'g', 2: 'b', 3: 'y', 4: 'm'}\n",
    "colors = [colors_map[c] for c in cluster_map]\n",
    "colors"
   ]
  },
  {
   "cell_type": "code",
   "execution_count": 21,
   "metadata": {},
   "outputs": [
    {
     "data": {
      "text/plain": [
       "<matplotlib.axes._subplots.AxesSubplot at 0xe2cfa92208>"
      ]
     },
     "execution_count": 21,
     "metadata": {},
     "output_type": "execute_result"
    },
    {
     "data": {
      "image/png": "[encoded data removed]",
      "text/plain": [
       "<matplotlib.figure.Figure at 0xe2cfa88630>"
      ]
     },
     "metadata": {},
     "output_type": "display_data"
    }
   ],
   "source": [
    "teams_pd.plot.scatter(x='cost', y='losses', c=colors, s=100)"
   ]
  },
  {
   "cell_type": "code",
   "execution_count": 25,
   "metadata": {},
   "outputs": [
    {
     "data": {
      "text/plain": [
       "(array([[4.36223465, 2.84462794],\n",
       "        [4.53106734, 0.75856745],\n",
       "        [2.88128672, 0.37928372],\n",
       "        [2.7251743 , 2.08606049],\n",
       "        [1.6786429 , 3.98247911]]),\n",
       " array([2, 1, 1, 3, 3, 0, 3, 0, 0, 0, 3, 0, 0, 0, 0, 0, 0, 4]))"
      ]
     },
     "execution_count": 25,
     "metadata": {},
     "output_type": "execute_result"
    }
   ],
   "source": [
    "centroids, cluster_map = kmeans2(whitened, 5)\n",
    "centroids, cluster_map"
   ]
  },
  {
   "cell_type": "code",
   "execution_count": 26,
   "metadata": {},
   "outputs": [
    {
     "data": {
      "text/plain": [
       "['b',\n",
       " 'g',\n",
       " 'g',\n",
       " 'y',\n",
       " 'y',\n",
       " 'r',\n",
       " 'y',\n",
       " 'r',\n",
       " 'r',\n",
       " 'r',\n",
       " 'y',\n",
       " 'r',\n",
       " 'r',\n",
       " 'r',\n",
       " 'r',\n",
       " 'r',\n",
       " 'r',\n",
       " 'm']"
      ]
     },
     "execution_count": 26,
     "metadata": {},
     "output_type": "execute_result"
    }
   ],
   "source": [
    "colors_map = {0: 'r', 1: 'g', 2: 'b', 3: 'y', 4: 'm'}\n",
    "colors = [colors_map[c] for c in cluster_map]\n",
    "colors"
   ]
  },
  {
   "cell_type": "code",
   "execution_count": 27,
   "metadata": {},
   "outputs": [
    {
     "data": {
      "text/plain": [
       "<matplotlib.axes._subplots.AxesSubplot at 0xe2ce8384a8>"
      ]
     },
     "execution_count": 27,
     "metadata": {},
     "output_type": "execute_result"
    },
    {
     "data": {
      "image/png": "[encoded data removed]",
      "text/plain": [
       "<matplotlib.figure.Figure at 0xe2ce85c940>"
      ]
     },
     "metadata": {},
     "output_type": "display_data"
    }
   ],
   "source": [
    "teams_pd.plot.scatter(x='cost', y='losses', c=colors, s=100)"
   ]
  }
 ],
 "metadata": {
  "kernelspec": {
   "display_name": "Python 3",
   "language": "python",
   "name": "python3"
  },
  "language_info": {
   "codemirror_mode": {
    "name": "ipython",
    "version": 3
   },
   "file_extension": ".py",
   "mimetype": "text/x-python",
   "name": "python",
   "nbconvert_exporter": "python",
   "pygments_lexer": "ipython3",
   "version": "3.6.4"
  }
 },
 "nbformat": 4,
 "nbformat_minor": 2
}
