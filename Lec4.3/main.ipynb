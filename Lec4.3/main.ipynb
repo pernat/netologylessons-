{
 "cells": [
  {
   "cell_type": "code",
   "execution_count": 28,
   "metadata": {},
   "outputs": [],
   "source": [
    "import requests\n",
    "import random\n",
    "from time import sleep\n",
    "\n",
    "import pandas as pd\n",
    "import numpy as np\n",
    "import matplotlib.pyplot as plt\n",
    "\n",
    "%matplotlib inline"
   ]
  },
  {
   "cell_type": "code",
   "execution_count": 29,
   "metadata": {},
   "outputs": [],
   "source": [
    "from scipy.cluster.vq import whiten, kmeans2"
   ]
  },
  {
   "cell_type": "code",
   "execution_count": 30,
   "metadata": {},
   "outputs": [],
   "source": [
    "def call_api(uri):\n",
    "    json = requests.get(uri, headers={'X-Auth-Token': 'ca62eb2a6f6f44bc9b257f70138ad4d7'}).json()\n",
    "    return json"
   ]
  },
  {
   "cell_type": "code",
   "execution_count": 31,
   "metadata": {},
   "outputs": [],
   "source": [
    "teams = call_api('http://api.football-data.org/v1/competitions/439/leagueTable')"
   ]
  },
  {
   "cell_type": "code",
   "execution_count": 33,
   "metadata": {},
   "outputs": [
    {
     "data": {
      "text/plain": [
       "[{'cost': 854702747, 'losses': 2, 'name': 'SL Benfica', 'wins': 25},\n",
       " {'cost': 706230283, 'losses': 2, 'name': 'FC Porto', 'wins': 22},\n",
       " {'cost': 906402980, 'losses': 6, 'name': 'Sporting CP', 'wins': 21},\n",
       " {'cost': 931590273, 'losses': 8, 'name': 'Vitoria Guimaraes', 'wins': 19},\n",
       " {'cost': 781792162, 'losses': 10, 'name': 'Sporting Braga', 'wins': 15},\n",
       " {'cost': 563060407, 'losses': 10, 'name': 'Maritimo Funchal', 'wins': 13},\n",
       " {'cost': 537873114, 'losses': 13, 'name': 'FC Rio Ave', 'wins': 14},\n",
       " {'cost': 507383233, 'losses': 14, 'name': 'Feirense', 'wins': 13},\n",
       " {'cost': 500754998, 'losses': 11, 'name': 'Boavista Porto FC', 'wins': 10},\n",
       " {'cost': 631994051, 'losses': 16, 'name': 'GD Estoril Praia', 'wins': 10},\n",
       " {'cost': 459659941, 'losses': 13, 'name': 'G.D. Chaves', 'wins': 8},\n",
       " {'cost': 517988409, 'losses': 16, 'name': 'Vitoria Setubal', 'wins': 9},\n",
       " {'cost': 1027036857, 'losses': 14, 'name': 'FC Paços de Ferreira', 'wins': 8},\n",
       " {'cost': 812282043, 'losses': 16, 'name': 'C.F. Os Belenenses', 'wins': 9},\n",
       " {'cost': 861330982, 'losses': 16, 'name': 'Moreirense FC', 'wins': 8},\n",
       " {'cost': 749976634, 'losses': 17, 'name': 'CD Tondela', 'wins': 8},\n",
       " {'cost': 848074512, 'losses': 20, 'name': 'FC Arouca', 'wins': 9},\n",
       " {'cost': 728766282, 'losses': 21, 'name': 'Nacional Funchal', 'wins': 4}]"
      ]
     },
     "execution_count": 33,
     "metadata": {},
     "output_type": "execute_result"
    }
   ],
   "source": [
    "team_for_pd = list()\n",
    "for x in range(len(teams['standing'])):\n",
    "\n",
    "    team_name = teams['standing'][x]['teamName']\n",
    "    team_losses = teams['standing'][x]['losses']\n",
    "    team_wins = teams['standing'][x]['wins']\n",
    "\n",
    "    team_cost_link = call_api(teams['standing'][x]['_links']['team']['href'])\n",
    "    if team_cost_link['squadMarketValue'] is None:\n",
    "        team_cost = (random.randrange(288651478, 1032156791, 1325647))\n",
    "    else:\n",
    "        team_cost = team_cost_link['squadMarketValue']\n",
    "\n",
    "    team_for_pd.append({'name': team_name, 'losses': team_losses, 'wins': team_wins, 'cost': team_cost})\n",
    "    sleep(1)\n",
    "\n",
    "team_for_pd"
   ]
  },
  {
   "cell_type": "code",
   "execution_count": 34,
   "metadata": {},
   "outputs": [
    {
     "data": {
      "text/html": [
       "<div>\n",
       "<style scoped>\n",
       "    .dataframe tbody tr th:only-of-type {\n",
       "        vertical-align: middle;\n",
       "    }\n",
       "\n",
       "    .dataframe tbody tr th {\n",
       "        vertical-align: top;\n",
       "    }\n",
       "\n",
       "    .dataframe thead th {\n",
       "        text-align: right;\n",
       "    }\n",
       "</style>\n",
       "<table border=\"1\" class=\"dataframe\">\n",
       "  <thead>\n",
       "    <tr style=\"text-align: right;\">\n",
       "      <th></th>\n",
       "      <th>cost</th>\n",
       "      <th>losses</th>\n",
       "      <th>name</th>\n",
       "      <th>wins</th>\n",
       "    </tr>\n",
       "  </thead>\n",
       "  <tbody>\n",
       "    <tr>\n",
       "      <th>0</th>\n",
       "      <td>854702747</td>\n",
       "      <td>2</td>\n",
       "      <td>SL Benfica</td>\n",
       "      <td>25</td>\n",
       "    </tr>\n",
       "    <tr>\n",
       "      <th>1</th>\n",
       "      <td>706230283</td>\n",
       "      <td>2</td>\n",
       "      <td>FC Porto</td>\n",
       "      <td>22</td>\n",
       "    </tr>\n",
       "    <tr>\n",
       "      <th>2</th>\n",
       "      <td>906402980</td>\n",
       "      <td>6</td>\n",
       "      <td>Sporting CP</td>\n",
       "      <td>21</td>\n",
       "    </tr>\n",
       "    <tr>\n",
       "      <th>3</th>\n",
       "      <td>931590273</td>\n",
       "      <td>8</td>\n",
       "      <td>Vitoria Guimaraes</td>\n",
       "      <td>19</td>\n",
       "    </tr>\n",
       "    <tr>\n",
       "      <th>4</th>\n",
       "      <td>781792162</td>\n",
       "      <td>10</td>\n",
       "      <td>Sporting Braga</td>\n",
       "      <td>15</td>\n",
       "    </tr>\n",
       "    <tr>\n",
       "      <th>5</th>\n",
       "      <td>563060407</td>\n",
       "      <td>10</td>\n",
       "      <td>Maritimo Funchal</td>\n",
       "      <td>13</td>\n",
       "    </tr>\n",
       "    <tr>\n",
       "      <th>6</th>\n",
       "      <td>537873114</td>\n",
       "      <td>13</td>\n",
       "      <td>FC Rio Ave</td>\n",
       "      <td>14</td>\n",
       "    </tr>\n",
       "    <tr>\n",
       "      <th>7</th>\n",
       "      <td>507383233</td>\n",
       "      <td>14</td>\n",
       "      <td>Feirense</td>\n",
       "      <td>13</td>\n",
       "    </tr>\n",
       "    <tr>\n",
       "      <th>8</th>\n",
       "      <td>500754998</td>\n",
       "      <td>11</td>\n",
       "      <td>Boavista Porto FC</td>\n",
       "      <td>10</td>\n",
       "    </tr>\n",
       "    <tr>\n",
       "      <th>9</th>\n",
       "      <td>631994051</td>\n",
       "      <td>16</td>\n",
       "      <td>GD Estoril Praia</td>\n",
       "      <td>10</td>\n",
       "    </tr>\n",
       "    <tr>\n",
       "      <th>10</th>\n",
       "      <td>459659941</td>\n",
       "      <td>13</td>\n",
       "      <td>G.D. Chaves</td>\n",
       "      <td>8</td>\n",
       "    </tr>\n",
       "    <tr>\n",
       "      <th>11</th>\n",
       "      <td>517988409</td>\n",
       "      <td>16</td>\n",
       "      <td>Vitoria Setubal</td>\n",
       "      <td>9</td>\n",
       "    </tr>\n",
       "    <tr>\n",
       "      <th>12</th>\n",
       "      <td>1027036857</td>\n",
       "      <td>14</td>\n",
       "      <td>FC Paços de Ferreira</td>\n",
       "      <td>8</td>\n",
       "    </tr>\n",
       "    <tr>\n",
       "      <th>13</th>\n",
       "      <td>812282043</td>\n",
       "      <td>16</td>\n",
       "      <td>C.F. Os Belenenses</td>\n",
       "      <td>9</td>\n",
       "    </tr>\n",
       "    <tr>\n",
       "      <th>14</th>\n",
       "      <td>861330982</td>\n",
       "      <td>16</td>\n",
       "      <td>Moreirense FC</td>\n",
       "      <td>8</td>\n",
       "    </tr>\n",
       "    <tr>\n",
       "      <th>15</th>\n",
       "      <td>749976634</td>\n",
       "      <td>17</td>\n",
       "      <td>CD Tondela</td>\n",
       "      <td>8</td>\n",
       "    </tr>\n",
       "    <tr>\n",
       "      <th>16</th>\n",
       "      <td>848074512</td>\n",
       "      <td>20</td>\n",
       "      <td>FC Arouca</td>\n",
       "      <td>9</td>\n",
       "    </tr>\n",
       "    <tr>\n",
       "      <th>17</th>\n",
       "      <td>728766282</td>\n",
       "      <td>21</td>\n",
       "      <td>Nacional Funchal</td>\n",
       "      <td>4</td>\n",
       "    </tr>\n",
       "  </tbody>\n",
       "</table>\n",
       "</div>"
      ],
      "text/plain": [
       "          cost  losses                  name  wins\n",
       "0    854702747       2            SL Benfica    25\n",
       "1    706230283       2              FC Porto    22\n",
       "2    906402980       6           Sporting CP    21\n",
       "3    931590273       8     Vitoria Guimaraes    19\n",
       "4    781792162      10        Sporting Braga    15\n",
       "5    563060407      10      Maritimo Funchal    13\n",
       "6    537873114      13            FC Rio Ave    14\n",
       "7    507383233      14              Feirense    13\n",
       "8    500754998      11     Boavista Porto FC    10\n",
       "9    631994051      16      GD Estoril Praia    10\n",
       "10   459659941      13           G.D. Chaves     8\n",
       "11   517988409      16       Vitoria Setubal     9\n",
       "12  1027036857      14  FC Paços de Ferreira     8\n",
       "13   812282043      16    C.F. Os Belenenses     9\n",
       "14   861330982      16         Moreirense FC     8\n",
       "15   749976634      17            CD Tondela     8\n",
       "16   848074512      20             FC Arouca     9\n",
       "17   728766282      21      Nacional Funchal     4"
      ]
     },
     "execution_count": 34,
     "metadata": {},
     "output_type": "execute_result"
    }
   ],
   "source": [
    "teams_pd = pd.DataFrame(team_for_pd)\n",
    "teams_pd"
   ]
  },
  {
   "cell_type": "code",
   "execution_count": 35,
   "metadata": {},
   "outputs": [
    {
     "data": {
      "text/plain": [
       "<matplotlib.axes._subplots.AxesSubplot at 0xe2cfd40c50>"
      ]
     },
     "execution_count": 35,
     "metadata": {},
     "output_type": "execute_result"
    },
    {
     "data": {
      "image/png": "[encoded data removed]",
      "text/plain": [
       "<matplotlib.figure.Figure at 0xe2cfd404a8>"
      ]
     },
     "metadata": {},
     "output_type": "display_data"
    }
   ],
   "source": [
    "teams_pd.plot.scatter(x='wins', y='losses', c='cost', s=50)"
   ]
  },
  {
   "cell_type": "code",
   "execution_count": 36,
   "metadata": {},
   "outputs": [
    {
     "name": "stdout",
     "output_type": "stream",
     "text": [
      "<class 'pandas.core.frame.DataFrame'>\n",
      "RangeIndex: 18 entries, 0 to 17\n",
      "Data columns (total 4 columns):\n",
      "cost      18 non-null int64\n",
      "losses    18 non-null int64\n",
      "name      18 non-null object\n",
      "wins      18 non-null int64\n",
      "dtypes: int64(3), object(1)\n",
      "memory usage: 656.0+ bytes\n"
     ]
    }
   ],
   "source": [
    "teams_pd.info()"
   ]
  },
  {
   "cell_type": "code",
   "execution_count": 37,
   "metadata": {},
   "outputs": [
    {
     "data": {
      "text/html": [
       "<div>\n",
       "<style scoped>\n",
       "    .dataframe tbody tr th:only-of-type {\n",
       "        vertical-align: middle;\n",
       "    }\n",
       "\n",
       "    .dataframe tbody tr th {\n",
       "        vertical-align: top;\n",
       "    }\n",
       "\n",
       "    .dataframe thead th {\n",
       "        text-align: right;\n",
       "    }\n",
       "</style>\n",
       "<table border=\"1\" class=\"dataframe\">\n",
       "  <thead>\n",
       "    <tr style=\"text-align: right;\">\n",
       "      <th></th>\n",
       "      <th>cost</th>\n",
       "      <th>losses</th>\n",
       "    </tr>\n",
       "  </thead>\n",
       "  <tbody>\n",
       "    <tr>\n",
       "      <th>0</th>\n",
       "      <td>854702747</td>\n",
       "      <td>2</td>\n",
       "    </tr>\n",
       "    <tr>\n",
       "      <th>1</th>\n",
       "      <td>706230283</td>\n",
       "      <td>2</td>\n",
       "    </tr>\n",
       "    <tr>\n",
       "      <th>2</th>\n",
       "      <td>906402980</td>\n",
       "      <td>6</td>\n",
       "    </tr>\n",
       "    <tr>\n",
       "      <th>3</th>\n",
       "      <td>931590273</td>\n",
       "      <td>8</td>\n",
       "    </tr>\n",
       "    <tr>\n",
       "      <th>4</th>\n",
       "      <td>781792162</td>\n",
       "      <td>10</td>\n",
       "    </tr>\n",
       "    <tr>\n",
       "      <th>5</th>\n",
       "      <td>563060407</td>\n",
       "      <td>10</td>\n",
       "    </tr>\n",
       "    <tr>\n",
       "      <th>6</th>\n",
       "      <td>537873114</td>\n",
       "      <td>13</td>\n",
       "    </tr>\n",
       "    <tr>\n",
       "      <th>7</th>\n",
       "      <td>507383233</td>\n",
       "      <td>14</td>\n",
       "    </tr>\n",
       "    <tr>\n",
       "      <th>8</th>\n",
       "      <td>500754998</td>\n",
       "      <td>11</td>\n",
       "    </tr>\n",
       "    <tr>\n",
       "      <th>9</th>\n",
       "      <td>631994051</td>\n",
       "      <td>16</td>\n",
       "    </tr>\n",
       "    <tr>\n",
       "      <th>10</th>\n",
       "      <td>459659941</td>\n",
       "      <td>13</td>\n",
       "    </tr>\n",
       "    <tr>\n",
       "      <th>11</th>\n",
       "      <td>517988409</td>\n",
       "      <td>16</td>\n",
       "    </tr>\n",
       "    <tr>\n",
       "      <th>12</th>\n",
       "      <td>1027036857</td>\n",
       "      <td>14</td>\n",
       "    </tr>\n",
       "    <tr>\n",
       "      <th>13</th>\n",
       "      <td>812282043</td>\n",
       "      <td>16</td>\n",
       "    </tr>\n",
       "    <tr>\n",
       "      <th>14</th>\n",
       "      <td>861330982</td>\n",
       "      <td>16</td>\n",
       "    </tr>\n",
       "    <tr>\n",
       "      <th>15</th>\n",
       "      <td>749976634</td>\n",
       "      <td>17</td>\n",
       "    </tr>\n",
       "    <tr>\n",
       "      <th>16</th>\n",
       "      <td>848074512</td>\n",
       "      <td>20</td>\n",
       "    </tr>\n",
       "    <tr>\n",
       "      <th>17</th>\n",
       "      <td>728766282</td>\n",
       "      <td>21</td>\n",
       "    </tr>\n",
       "  </tbody>\n",
       "</table>\n",
       "</div>"
      ],
      "text/plain": [
       "          cost  losses\n",
       "0    854702747       2\n",
       "1    706230283       2\n",
       "2    906402980       6\n",
       "3    931590273       8\n",
       "4    781792162      10\n",
       "5    563060407      10\n",
       "6    537873114      13\n",
       "7    507383233      14\n",
       "8    500754998      11\n",
       "9    631994051      16\n",
       "10   459659941      13\n",
       "11   517988409      16\n",
       "12  1027036857      14\n",
       "13   812282043      16\n",
       "14   861330982      16\n",
       "15   749976634      17\n",
       "16   848074512      20\n",
       "17   728766282      21"
      ]
     },
     "execution_count": 37,
     "metadata": {},
     "output_type": "execute_result"
    }
   ],
   "source": [
    "del teams_pd['wins']\n",
    "del teams_pd['name']\n",
    "teams_pd"
   ]
  },
  {
   "cell_type": "code",
   "execution_count": 38,
   "metadata": {},
   "outputs": [
    {
     "data": {
      "text/plain": [
       "array([[5.08190715, 0.37928372],\n",
       "       [4.19911687, 0.37928372],\n",
       "       [5.38930733, 1.13785117],\n",
       "       [5.5390664 , 1.5171349 ],\n",
       "       [4.64839407, 1.89641862],\n",
       "       [3.34785482, 1.89641862],\n",
       "       [3.19809575, 2.46534421],\n",
       "       [3.01680846, 2.65498607],\n",
       "       [2.97739818, 2.08606049],\n",
       "       [3.75772173, 3.0342698 ],\n",
       "       [2.73305444, 2.46534421],\n",
       "       [3.07986491, 3.0342698 ],\n",
       "       [6.10657444, 2.65498607],\n",
       "       [4.82968135, 3.0342698 ],\n",
       "       [5.12131743, 3.0342698 ],\n",
       "       [4.45922472, 3.22391166],\n",
       "       [5.04249687, 3.79283725],\n",
       "       [4.33311182, 3.98247911]])"
      ]
     },
     "execution_count": 38,
     "metadata": {},
     "output_type": "execute_result"
    }
   ],
   "source": [
    "whitened = whiten(teams_pd.as_matrix())\n",
    "whitened"
   ]
  },
  {
   "cell_type": "code",
   "execution_count": 39,
   "metadata": {},
   "outputs": [
    {
     "data": {
      "text/plain": [
       "(array([[3.15868547, 2.5195276 ],\n",
       "        [4.98206777, 3.28712561],\n",
       "        [4.97155836, 1.06199443]]),\n",
       " array([2, 2, 2, 2, 2, 0, 0, 0, 0, 0, 0, 0, 1, 1, 1, 1, 1, 1]))"
      ]
     },
     "execution_count": 39,
     "metadata": {},
     "output_type": "execute_result"
    }
   ],
   "source": [
    "centroids, cluster_map = kmeans2(whitened, 3)\n",
    "centroids, cluster_map"
   ]
  },
  {
   "cell_type": "code",
   "execution_count": 40,
   "metadata": {},
   "outputs": [
    {
     "data": {
      "text/plain": [
       "['b',\n",
       " 'b',\n",
       " 'b',\n",
       " 'b',\n",
       " 'b',\n",
       " 'r',\n",
       " 'r',\n",
       " 'r',\n",
       " 'r',\n",
       " 'r',\n",
       " 'r',\n",
       " 'r',\n",
       " 'g',\n",
       " 'g',\n",
       " 'g',\n",
       " 'g',\n",
       " 'g',\n",
       " 'g']"
      ]
     },
     "execution_count": 40,
     "metadata": {},
     "output_type": "execute_result"
    }
   ],
   "source": [
    "colors_map = {0: 'r', 1: 'g', 2: 'b', 3: 'y', 4: 'm'}\n",
    "colors = [colors_map[c] for c in cluster_map]\n",
    "colors"
   ]
  },
  {
   "cell_type": "code",
   "execution_count": 41,
   "metadata": {},
   "outputs": [
    {
     "data": {
      "text/plain": [
       "<matplotlib.axes._subplots.AxesSubplot at 0xe2cfd52128>"
      ]
     },
     "execution_count": 41,
     "metadata": {},
     "output_type": "execute_result"
    },
    {
     "data": {
      "image/png": "[encoded data removed]",
      "text/plain": [
       "<matplotlib.figure.Figure at 0xe2cfcddcc0>"
      ]
     },
     "metadata": {},
     "output_type": "display_data"
    }
   ],
   "source": [
    "teams_pd.plot.scatter(x='cost', y='losses', c=colors, s=100)"
   ]
  },
  {
   "cell_type": "code",
   "execution_count": 45,
   "metadata": {},
   "outputs": [
    {
     "data": {
      "text/plain": [
       "(array([[4.89011045, 0.63213954],\n",
       "        [5.43134497, 2.02284653],\n",
       "        [4.75716644, 3.41355352],\n",
       "        [3.05464233, 2.31363072],\n",
       "        [3.41879332, 3.0342698 ]]),\n",
       " array([0, 0, 0, 1, 1, 3, 3, 3, 3, 4, 3, 4, 1, 2, 2, 2, 2, 2]))"
      ]
     },
     "execution_count": 45,
     "metadata": {},
     "output_type": "execute_result"
    }
   ],
   "source": [
    "centroids, cluster_map = kmeans2(whitened, 5)\n",
    "centroids, cluster_map"
   ]
  },
  {
   "cell_type": "code",
   "execution_count": 46,
   "metadata": {},
   "outputs": [
    {
     "data": {
      "text/plain": [
       "['r',\n",
       " 'r',\n",
       " 'r',\n",
       " 'g',\n",
       " 'g',\n",
       " 'y',\n",
       " 'y',\n",
       " 'y',\n",
       " 'y',\n",
       " 'm',\n",
       " 'y',\n",
       " 'm',\n",
       " 'g',\n",
       " 'b',\n",
       " 'b',\n",
       " 'b',\n",
       " 'b',\n",
       " 'b']"
      ]
     },
     "execution_count": 46,
     "metadata": {},
     "output_type": "execute_result"
    }
   ],
   "source": [
    "colors_map = {0: 'r', 1: 'g', 2: 'b', 3: 'y', 4: 'm'}\n",
    "colors = [colors_map[c] for c in cluster_map]\n",
    "colors"
   ]
  },
  {
   "cell_type": "code",
   "execution_count": 47,
   "metadata": {},
   "outputs": [
    {
     "data": {
      "text/plain": [
       "<matplotlib.axes._subplots.AxesSubplot at 0xe2ce886e80>"
      ]
     },
     "execution_count": 47,
     "metadata": {},
     "output_type": "execute_result"
    },
    {
     "data": {
      "image/png": "[encoded data removed]",
      "text/plain": [
       "<matplotlib.figure.Figure at 0xe2d0210b00>"
      ]
     },
     "metadata": {},
     "output_type": "display_data"
    }
   ],
   "source": [
    "teams_pd.plot.scatter(x='cost', y='losses', c=colors, s=100)"
   ]
  }
 ],
 "metadata": {
  "kernelspec": {
   "display_name": "Python 3",
   "language": "python",
   "name": "python3"
  },
  "language_info": {
   "codemirror_mode": {
    "name": "ipython",
    "version": 3
   },
   "file_extension": ".py",
   "mimetype": "text/x-python",
   "name": "python",
   "nbconvert_exporter": "python",
   "pygments_lexer": "ipython3",
   "version": "3.6.4"
  }
 },
 "nbformat": 4,
 "nbformat_minor": 2
}
